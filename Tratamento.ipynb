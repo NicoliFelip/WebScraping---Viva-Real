{
 "cells": [
  {
   "cell_type": "code",
   "execution_count": 2,
   "metadata": {},
   "outputs": [],
   "source": [
    "import pandas as pd \n",
    "\n",
    "# Carregar os dados coletados\n",
    "dados = pd.read_excel('imoveis.xlsx')"
   ]
  },
  {
   "cell_type": "code",
   "execution_count": 3,
   "metadata": {},
   "outputs": [],
   "source": [
    "# Remover linhas com valores vazios\n",
    "dados.dropna(inplace=True)"
   ]
  },
  {
   "cell_type": "code",
   "execution_count": 4,
   "metadata": {},
   "outputs": [],
   "source": [
    "# Remover linhas com valores duplicados\n",
    "dados.drop_duplicates(inplace=True)"
   ]
  },
  {
   "cell_type": "code",
   "execution_count": 5,
   "metadata": {},
   "outputs": [],
   "source": [
    "import pandas as pd\n",
    "\n",
    "# Remover o prefixo de texto e manter apenas o número inicial\n",
    "dados['quartos'] = dados['quartos'].str.replace('Quantidade de quartos\\n', '', regex=False)\n",
    "dados['quartos'] = dados['quartos'].str.extract(r'(\\d+)').astype(int)\n",
    "\n",
    "dados['banheiros'] = dados['banheiros'].str.replace('Quantidade de banheiros\\n', '', regex=False)\n",
    "dados['banheiros'] = dados['banheiros'].str.extract(r'(\\d+)').astype(int)\n",
    "\n",
    "dados['vagas'] = dados['vagas'].str.replace('Quantidade de vagas\\n', '', regex=False)\n",
    "dados['vagas'] = dados['vagas'].str.extract(r'(\\d+)').astype(int)"
   ]
  },
  {
   "cell_type": "code",
   "execution_count": 7,
   "metadata": {},
   "outputs": [],
   "source": [
    "# Separe o texto dos valores\n",
    "dados['metragem'] = dados['metragem'].str.replace('m²', '')\n",
    "dados['valor'] = dados['valor'].str.replace('R$ ', '')\n",
    "dados['condominio_iptu'] = dados['condominio_iptu'].str.replace('R$ ', '')"
   ]
  },
  {
   "cell_type": "code",
   "execution_count": 8,
   "metadata": {},
   "outputs": [],
   "source": [
    "#substuir o nome\n",
    "dados = dados.rename(columns={\n",
    "    'condominio_iptu': 'iptu',\n",
    "    'metragem': 'metragem (em m2)'\n",
    "})"
   ]
  },
  {
   "cell_type": "code",
   "execution_count": 9,
   "metadata": {},
   "outputs": [],
   "source": [
    "\n",
    "# 1. Extrair o valor do condomínio e criar nova coluna\n",
    "dados['condominio'] = dados['iptu'].str.extract(r'Cond\\.?\\s*([\\d,.]+)')\n",
    "dados['condominio'] = dados['condominio'].str.replace('.', '', regex=False).str.replace(',', '.', regex=False).astype(float)\n",
    "\n",
    "# 2. Remover o trecho \"Cond. xxx\" da coluna original\n",
    "dados['iptu'] = dados['iptu'].str.replace(r'Cond\\.?\\s*[\\d,.]+', '', regex=True).str.strip(' •-')\n"
   ]
  },
  {
   "cell_type": "code",
   "execution_count": 10,
   "metadata": {},
   "outputs": [],
   "source": [
    "# Extrair o primeiro número (antes do hífen)\n",
    "dados['metragem (em m2)'] = dados['metragem (em m2)'].str.replace('Tamanho do imóvel\\n', '', regex=False)\n",
    "dados['metragem (em m2)'] = dados['metragem (em m2)'].str.extract(r'(\\d+(?:,\\d+)?)')[0]  # Pega o primeiro número, incluindo decimais\n",
    "dados['metragem (em m2)'] = dados['metragem (em m2)'].str.replace(',', '.').astype(float)"
   ]
  },
  {
   "cell_type": "markdown",
   "metadata": {},
   "source": []
  },
  {
   "cell_type": "markdown",
   "metadata": {},
   "source": []
  },
  {
   "cell_type": "code",
   "execution_count": 11,
   "metadata": {},
   "outputs": [],
   "source": [
    "\n",
    "# Colocar espaco entre os nomes das ruas\n",
    "dados['nome_rua'] = dados['nome_rua'].str.replace('Rua ', 'Rua ')"
   ]
  },
  {
   "cell_type": "code",
   "execution_count": 12,
   "metadata": {},
   "outputs": [
    {
     "name": "stdout",
     "output_type": "stream",
     "text": [
      "    metragem (em m2)  quartos  banheiros  vagas    valor        iptu  \\\n",
      "0               44.0        3          2      1  300.000  IPTU 2.000   \n",
      "1              160.0        3          1      2  300.000  IPTU 2.000   \n",
      "2              170.0        3          2      2  300.000  IPTU 2.000   \n",
      "3              132.0        3          2      2  300.000  IPTU 2.000   \n",
      "4              100.0        3          1      3  300.000  IPTU 2.000   \n",
      "..               ...      ...        ...    ...      ...         ...   \n",
      "79              69.0        2          2      2  110.000    IPTU 250   \n",
      "80              82.0        2          2      1  110.000    IPTU 250   \n",
      "81              47.0        2          1      1  110.000    IPTU 250   \n",
      "82             250.0        3          2      4  110.000    IPTU 250   \n",
      "83             210.0        4          6      2  110.000    IPTU 250   \n",
      "\n",
      "                               nome_rua  condominio  \n",
      "0          Rua Doutor Alfredo De Castro       750.0  \n",
      "1     Rua Emerson Carlos Romanelli Dias       750.0  \n",
      "2                    Rua Das Primaveras       750.0  \n",
      "3                      Rua Geyza Marcok       750.0  \n",
      "4                 Avenida Independência       750.0  \n",
      "..                                  ...         ...  \n",
      "79                         Rua Cruzeiro         NaN  \n",
      "80            Rua Ruth Pinto De Camargo         NaN  \n",
      "81                      Avenida Capuava         NaN  \n",
      "82                 Rua Marcos Andreotti         NaN  \n",
      "83  Rua Julieta Espírito Santo Pinheiro         NaN  \n",
      "\n",
      "[61 rows x 8 columns]\n"
     ]
    }
   ],
   "source": [
    "# Normalize as informações para um padrão de texto (Capitalize, Remoção de espaços)\n",
    "dados['nome_rua'] = dados['nome_rua'].str.title()\n",
    "print(dados)"
   ]
  },
  {
   "cell_type": "code",
   "execution_count": 13,
   "metadata": {},
   "outputs": [],
   "source": [
    "df= dados.to_excel('imoveis_tratados.xlsx', index=False)"
   ]
  }
 ],
 "metadata": {
  "kernelspec": {
   "display_name": "Python 3",
   "language": "python",
   "name": "python3"
  },
  "language_info": {
   "codemirror_mode": {
    "name": "ipython",
    "version": 3
   },
   "file_extension": ".py",
   "mimetype": "text/x-python",
   "name": "python",
   "nbconvert_exporter": "python",
   "pygments_lexer": "ipython3",
   "version": "3.12.1"
  }
 },
 "nbformat": 4,
 "nbformat_minor": 2
}
