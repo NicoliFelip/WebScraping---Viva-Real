{
 "cells": [
  {
   "cell_type": "code",
   "execution_count": 130,
   "metadata": {},
   "outputs": [],
   "source": [
    "import pandas as pd \n",
    "\n",
    "# Carregar os dados coletados\n",
    "dados = pd.read_excel('imoveis.xlsx')"
   ]
  },
  {
   "cell_type": "code",
   "execution_count": 131,
   "metadata": {},
   "outputs": [],
   "source": [
    "# Remover linhas com valores vazios\n",
    "dados.dropna(inplace=True)"
   ]
  },
  {
   "cell_type": "code",
   "execution_count": 132,
   "metadata": {},
   "outputs": [],
   "source": [
    "# Remover linhas com valores duplicados\n",
    "dados.drop_duplicates(inplace=True)"
   ]
  },
  {
   "cell_type": "code",
   "execution_count": 133,
   "metadata": {},
   "outputs": [],
   "source": [
    "import pandas as pd\n",
    "\n",
    "# Remover o prefixo de texto e manter apenas o número inicial\n",
    "dados['quartos'] = dados['quartos'].str.replace('Quantidade de quartos\\n', '', regex=False)\n",
    "dados['quartos'] = dados['quartos'].str.extract(r'(\\d+)').astype(int)\n",
    "\n",
    "dados['banheiros'] = dados['banheiros'].str.replace('Quantidade de banheiros\\n', '', regex=False)\n",
    "dados['banheiros'] = dados['banheiros'].str.extract(r'(\\d+)').astype(int)\n",
    "\n",
    "dados['vagas'] = dados['vagas'].str.replace('Quantidade de vagas\\n', '', regex=False)\n",
    "dados['vagas'] = dados['vagas'].str.extract(r'(\\d+)').astype(int)\n"
   ]
  },
  {
   "cell_type": "code",
   "execution_count": 134,
   "metadata": {},
   "outputs": [],
   "source": [
    "# Separe o texto dos valores\n",
    "dados['metragem'] = dados['metragem'].str.replace('m²', '')\n",
    "dados['valor'] = dados['valor'].str.replace('R$ ', '')\n",
    "dados['condominio_iptu'] = dados['condominio_iptu'].str.replace('R$ ', '')"
   ]
  },
  {
   "cell_type": "code",
   "execution_count": 135,
   "metadata": {},
   "outputs": [],
   "source": [
    "# Extrair o primeiro número (antes do hífen)\n",
    "dados['metragem'] = dados['metragem'].str.replace('Tamanho do imóvel\\n', '', regex=False)\n",
    "dados['metragem'] = dados['metragem'].str.extract(r'(\\d+(?:,\\d+)?)')[0]  # Pega o primeiro número, incluindo decimais\n",
    "dados['metragem'] = dados['metragem'].str.replace(',', '.').astype(float)"
   ]
  },
  {
   "cell_type": "code",
   "execution_count": 136,
   "metadata": {},
   "outputs": [],
   "source": [
    "# Colocar espaco entre os nomes das ruas\n",
    "dados['nome_rua'] = dados['nome_rua'].str.replace('Rua ', 'Rua ')"
   ]
  },
  {
   "cell_type": "code",
   "execution_count": 137,
   "metadata": {},
   "outputs": [],
   "source": [
    "# substituir o nome metragem \n",
    "dados = dados.rename(columns={'metragem': 'metragem (em m2)'})\n"
   ]
  },
  {
   "cell_type": "code",
   "execution_count": 138,
   "metadata": {},
   "outputs": [
    {
     "name": "stdout",
     "output_type": "stream",
     "text": [
      "    metragem (em m2)  quartos  banheiros  vagas    valor  \\\n",
      "0               44.0        3          2      1  300.000   \n",
      "1              160.0        3          1      2  300.000   \n",
      "2              170.0        3          2      2  300.000   \n",
      "3              132.0        3          2      2  300.000   \n",
      "4              100.0        3          1      3  300.000   \n",
      "..               ...      ...        ...    ...      ...   \n",
      "79              69.0        2          2      2  110.000   \n",
      "80              82.0        2          2      1  110.000   \n",
      "81              47.0        2          1      1  110.000   \n",
      "82             250.0        3          2      4  110.000   \n",
      "83             210.0        4          6      2  110.000   \n",
      "\n",
      "           condominio_iptu                             nome_rua  \n",
      "0   Cond. 750 • IPTU 2.000         Rua Doutor Alfredo De Castro  \n",
      "1   Cond. 750 • IPTU 2.000    Rua Emerson Carlos Romanelli Dias  \n",
      "2   Cond. 750 • IPTU 2.000                   Rua Das Primaveras  \n",
      "3   Cond. 750 • IPTU 2.000                     Rua Geyza Marcok  \n",
      "4   Cond. 750 • IPTU 2.000                Avenida Independência  \n",
      "..                     ...                                  ...  \n",
      "79                IPTU 250                         Rua Cruzeiro  \n",
      "80                IPTU 250            Rua Ruth Pinto De Camargo  \n",
      "81                IPTU 250                      Avenida Capuava  \n",
      "82                IPTU 250                 Rua Marcos Andreotti  \n",
      "83                IPTU 250  Rua Julieta Espírito Santo Pinheiro  \n",
      "\n",
      "[61 rows x 7 columns]\n"
     ]
    }
   ],
   "source": [
    "# Normalize as informações para um padrão de texto (Capitalize, Remoção de espaços)\n",
    "dados['nome_rua'] = dados['nome_rua'].str.title()\n",
    "print(dados)"
   ]
  },
  {
   "cell_type": "code",
   "execution_count": 140,
   "metadata": {},
   "outputs": [],
   "source": [
    "df= dados.to_excel('imoveis_tratados.xlsx', index=False)"
   ]
  }
 ],
 "metadata": {
  "kernelspec": {
   "display_name": "Python 3",
   "language": "python",
   "name": "python3"
  },
  "language_info": {
   "codemirror_mode": {
    "name": "ipython",
    "version": 3
   },
   "file_extension": ".py",
   "mimetype": "text/x-python",
   "name": "python",
   "nbconvert_exporter": "python",
   "pygments_lexer": "ipython3",
   "version": "3.12.1"
  }
 },
 "nbformat": 4,
 "nbformat_minor": 2
}
